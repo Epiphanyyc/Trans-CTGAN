{
 "cells": [
  {
   "cell_type": "code",
   "execution_count": null,
   "id": "0d8a8892",
   "metadata": {},
   "outputs": [],
   "source": [
    "import pandas as pd\n",
    "\n",
    "# Define dataset path (modify if needed)\n",
    "file_path = \"C:/Users/26332/Desktop/covertype/covtype.data.gz\"\n",
    "\n",
    "# Load dataset with gzip compression\n",
    "df = pd.read_csv(file_path, compression='gzip', header=None)\n",
    "\n",
    "# Randomly sample 150,000 records (with fixed seed for reproducibility)\n",
    "sampled_df = df.sample(n=100000, random_state=42, ignore_index=True)\n",
    "\n",
    "sampled_df.to_csv(\"G:\\DataSets\\Covertype100k.csv\", index=False)\n",
    "print(f\"Sampled data shape: {sampled_df.shape}\")\n",
    "print(sampled_df.head())"
   ]
  },
  {
   "cell_type": "code",
   "execution_count": null,
   "id": "b9ded85b",
   "metadata": {},
   "outputs": [],
   "source": [
    "import pandas as pd\n",
    "from sklearn.preprocessing import StandardScaler\n",
    "from sklearn.model_selection import train_test_split\n",
    "\n",
    "df = pd.read_csv('G:\\DataSets\\Covertype150k.csv')\n",
    "\n",
    "print(df.isnull().sum())\n",
    "\n",
    "feature_columns = [\n",
    "    'Elevation', 'Aspect', 'Slope', \n",
    "    'Horizontal_Distance_To_Hydrology', 'Vertical_Distance_To_Hydrology',\n",
    "    'Horizontal_Distance_To_Roadways', 'Hillshade_9am', 'Hillshade_Noon',\n",
    "    'Hillshade_3pm', 'Horizontal_Distance_To_Fire_Points'\n",
    "] + [f'Wilderness_Area{i}' for i in range(1,5)] + \\\n",
    "    [f'Soil_Type{i}' for i in range(1,41)]\n",
    "\n",
    "X = df[feature_columns]\n",
    "y = df['Cover_Type']\n",
    "\n",
    "\n",
    "continuous_cols = feature_columns[:10]  \n",
    "scaler = StandardScaler()\n",
    "X[continuous_cols] = scaler.fit_transform(X[continuous_cols])\n",
    "\n",
    "sampled_data = X.sample(n=50000, random_state=42)\n",
    "sampled_labels = y.loc[sampled_data.index]\n",
    "\n",
    "processed_df = pd.concat([sampled_data, sampled_labels], axis=1)\n",
    "\n",
    "processed_df.to_csv('G:\\DataSets\\Covertype50k.csv', index=False)\n",
    "\n",
    "print(processed_df.shape)\n",
    "print(processed_df['Cover_Type'].value_counts())"
   ]
  }
 ],
 "metadata": {
  "kernelspec": {
   "display_name": "LLM",
   "language": "python",
   "name": "python3"
  },
  "language_info": {
   "codemirror_mode": {
    "name": "ipython",
    "version": 3
   },
   "file_extension": ".py",
   "mimetype": "text/x-python",
   "name": "python",
   "nbconvert_exporter": "python",
   "pygments_lexer": "ipython3",
   "version": "3.9.19"
  }
 },
 "nbformat": 4,
 "nbformat_minor": 5
}
