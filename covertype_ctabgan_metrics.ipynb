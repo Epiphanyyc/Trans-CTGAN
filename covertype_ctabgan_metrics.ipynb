{
 "cells": [
  {
   "cell_type": "code",
   "execution_count": null,
   "metadata": {},
   "outputs": [],
   "source": [
    "import pandas as pd\n",
    "import numpy as np\n",
    "from scipy.stats import wasserstein_distance, entropy\n",
    "\n",
    "real_path = \"../CTAB-GAN-main/Real_Datasets/train2.csv\"\n",
    "fake_path = \"../CTAB-GAN-main/Fake_Datasets/cover/cover_fake_0.csv\""
   ]
  },
  {
   "cell_type": "code",
   "execution_count": null,
   "metadata": {},
   "outputs": [
    {
     "name": "stdout",
     "output_type": "stream",
     "text": [
      "KL Divergence between the two datasets: 2.279434358268424\n",
      "Jensen-Shannon Divergence between the two datasets: 0.4949462228462356\n",
      "Wasserstein Distance between the two datasets: 1.1489723064449218\n"
     ]
    }
   ],
   "source": [
    "import pandas as pd\n",
    "import numpy as np\n",
    "from scipy.stats import entropy\n",
    "from scipy.spatial.distance import cdist\n",
    "\n",
    "df1 = pd.read_csv(real_path).drop(columns=['Id'])\n",
    "df2 = pd.read_csv(fake_path).drop(columns=['Id'])\n",
    "\n",
    "data1 = df1.values.flatten()\n",
    "data2 = df2.values.flatten()\n",
    "\n",
    "def compute_distribution(data, bins=50):\n",
    "    hist, bins = np.histogram(data, bins=bins, density=True)\n",
    "    hist = hist / np.sum(hist) \n",
    "    return hist + 1e-10  \n",
    "\n",
    "def kl_divergence(p, q):\n",
    "    return entropy(p, q)\n",
    "\n",
    "def jsd(p, q):\n",
    "    m = 0.5 * (p + q)\n",
    "    return 0.5 * (entropy(p, m) + entropy(q, m))\n",
    "\n",
    "def wasserstein_distance(p, q):\n",
    "    return cdist([p], [q], metric='euclidean')[0][0]\n",
    "\n",
    "p = compute_distribution(data1)\n",
    "q = compute_distribution(data2)\n",
    "\n",
    "kl_value = kl_divergence(p, q)\n",
    "jsd_value = jsd(p, q)\n",
    "wd_value = wasserstein_distance(p, q)\n",
    "\n",
    "print(f\"KL Divergence between the two datasets: {kl_value}\")\n",
    "print(f\"Jensen-Shannon Divergence between the two datasets: {jsd_value}\")\n",
    "print(f\"Wasserstein Distance between the two datasets: {wd_value}\")\n"
   ]
  }
 ],
 "metadata": {
  "kernelspec": {
   "display_name": "LLM",
   "language": "python",
   "name": "python3"
  },
  "language_info": {
   "codemirror_mode": {
    "name": "ipython",
    "version": 3
   },
   "file_extension": ".py",
   "mimetype": "text/x-python",
   "name": "python",
   "nbconvert_exporter": "python",
   "pygments_lexer": "ipython3",
   "version": "3.9.19"
  }
 },
 "nbformat": 4,
 "nbformat_minor": 2
}
