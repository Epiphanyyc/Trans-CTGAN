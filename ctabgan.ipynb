{
 "cells": [
  {
   "cell_type": "code",
   "execution_count": 1,
   "metadata": {},
   "outputs": [
    {
     "name": "stderr",
     "output_type": "stream",
     "text": [
      "e:\\qycache\\anaconda\\envs\\LLM\\lib\\site-packages\\tqdm\\auto.py:21: TqdmWarning: IProgress not found. Please update jupyter and ipywidgets. See https://ipywidgets.readthedocs.io/en/stable/user_install.html\n",
      "  from .autonotebook import tqdm as notebook_tqdm\n"
     ]
    },
    {
     "name": "stdout",
     "output_type": "stream",
     "text": [
      "[KeOps] Warning : Cuda libraries were not detected on the system or could not be loaded ; using cpu only mode\n"
     ]
    },
    {
     "name": "stderr",
     "output_type": "stream",
     "text": [
      "[2025-04-18T17:52:17.490414+0800][7080][CRITICAL] module disabled: e:\\qycache\\anaconda\\envs\\LLM\\lib\\site-packages\\synthcity\\plugins\\generic\\plugin_goggle.py\n"
     ]
    },
    {
     "data": {
      "text/plain": [
       "['nflow',\n",
       " 'adsgan',\n",
       " 'dpgan',\n",
       " 'image_cgan',\n",
       " 'fflows',\n",
       " 'timegan',\n",
       " 'rtvae',\n",
       " 'dummy_sampler',\n",
       " 'arf',\n",
       " 'survae',\n",
       " 'uniform_sampler',\n",
       " 'decaf',\n",
       " 'great',\n",
       " 'survival_gan',\n",
       " 'timevae',\n",
       " 'bayesian_network',\n",
       " 'privbayes',\n",
       " 'ctgan',\n",
       " 'ddpm',\n",
       " 'tvae',\n",
       " 'pategan',\n",
       " 'marginal_distributions',\n",
       " 'aim',\n",
       " 'survival_ctgan',\n",
       " 'radialgan',\n",
       " 'image_adsgan',\n",
       " 'survival_nflow']"
      ]
     },
     "execution_count": 1,
     "metadata": {},
     "output_type": "execute_result"
    }
   ],
   "source": [
    "# synthcity absolute\n",
    "from synthcity.plugins import Plugins\n",
    "\n",
    "generators = Plugins()\n",
    "\n",
    "generators.list()"
   ]
  },
  {
   "cell_type": "code",
   "execution_count": 2,
   "metadata": {},
   "outputs": [],
   "source": [
    "# stdlib\n",
    "from typing import Any, List\n",
    "\n",
    "# third party\n",
    "import numpy as np\n",
    "import pandas as pd\n",
    "\n",
    "# synthcity absolute\n",
    "from synthcity.plugins.core.dataloader import DataLoader, GenericDataLoader\n",
    "from synthcity.plugins.core.distribution import Distribution\n",
    "from synthcity.plugins.core.plugin import Plugin\n",
    "from synthcity.plugins.core.schema import Schema\n"
   ]
  },
  {
   "cell_type": "code",
   "execution_count": 3,
   "metadata": {},
   "outputs": [],
   "source": [
    "import sys\n",
    "import os"
   ]
  },
  {
   "cell_type": "code",
   "execution_count": null,
   "metadata": {},
   "outputs": [],
   "source": [
    "\n",
    "package_path = '../CTAB-GAN-main'\n",
    "\n",
    "sys.path.append(package_path)\n",
    "\n",
    "from model.ctabgan import CTABGAN\n",
    "# Importing the evaluation metrics \n",
    "from model.eval.evaluation import get_utility_metrics,stat_sim,privacy_metrics\n",
    "# Importing standard libraries\n",
    "import numpy as np\n",
    "import pandas as pd\n",
    "import glob"
   ]
  },
  {
   "cell_type": "code",
   "execution_count": null,
   "metadata": {},
   "outputs": [
    {
     "name": "stdout",
     "output_type": "stream",
     "text": [
      "['V1', 'V2', 'V3', 'V4', 'V5', 'V6', 'V7', 'V8', 'V9', 'V10', 'V11', 'V12', 'V13', 'V14', 'V15', 'V16', 'V17', 'V18', 'V19', 'V20', 'V21', 'V22', 'V23', 'V24', 'V25', 'V26', 'V27', 'V28', 'Amount']\n"
     ]
    }
   ],
   "source": [
    "#real_path = \"../synthcity-main/tutorials/covertype_preprocessed.csv\"\n",
    "real_path = \"../CTAB-GAN-main/Real_Datasets/Credit.csv\"\n",
    "df = pd.read_csv(real_path)\n",
    "numeric_columns = df.select_dtypes(include=['number']).columns.tolist()\n",
    "print(numeric_columns)"
   ]
  },
  {
   "cell_type": "code",
   "execution_count": null,
   "metadata": {},
   "outputs": [],
   "source": [
    "import pandas as pd\n",
    "real_path = \"../synthcity-main/tutorials/covertype_preprocessed.csv\"\n",
    "\n",
    "df = pd.read_csv(real_path)\n",
    "\n",
    "columns = df.columns.tolist()\n",
    "\n",
    "list1 = columns[:11]\n",
    "\n",
    "list2 = columns[11:]\n",
    "\n",
    "print( list1)\n",
    "print( list2)"
   ]
  },
  {
   "cell_type": "code",
   "execution_count": null,
   "metadata": {},
   "outputs": [],
   "source": [
    "#real_path = \"../CTAB-GAN-main/Real_Datasets/Adult3.csv\"\n",
    "#real_path = \"../CTAB-GAN-main/Real_Datasets/creditcard2.csv\"\n",
    "#real_path = '../CTGAN-main/CTGAN-main/Adult_datasets.csv'\n",
    "#real_path = '../CTGAN-main/CTGAN-main/examples/csv/train_clean.csv'\n",
    "real_path = \"../CTAB-GAN-main/Real_Datasets/Credit.csv\"\n",
    "#real_path = \"../CTAB-GAN-main/Real_Datasets/train2.csv\"\n",
    "#real_path = \"../synthcity-main/tutorials/covertype_preprocessed.csv\"\n",
    "class CTABGANPlugin(Plugin):\n",
    "    \"\"\"Dummy plugin for debugging.\"\"\"\n",
    "\n",
    "    def __init__(\n",
    "        self,\n",
    "        n_iter: int = 200,\n",
    "        cat_limit: int = 15,\n",
    "        **kwargs: Any\n",
    "    ) -> None:\n",
    "        super().__init__(**kwargs)\n",
    "        self.cat_limit = cat_limit\n",
    "        # self.model = CTABGAN(\n",
    "        #     raw_csv_path = real_path,\n",
    "        #     test_ratio = 0.20,\n",
    "        #     categorical_columns = [ 'workclass', 'education', 'marital-status', 'occupation', 'relationship', 'race', 'gender', 'native-country', 'income'],\n",
    "        #     log_columns = [],\n",
    "        #     mixed_columns= {'capital-loss':[0.0],'capital-gain':[0.0]},\n",
    "        #     integer_columns = ['age', 'fnlwgt','capital-gain', 'capital-loss','hours-per-week'],\n",
    "        #     problem_type= {\"Classification\": 'income'},\n",
    "        #     epochs=n_iter\n",
    "        # )\n",
    "        # self.model = CTABGAN(\n",
    "        #     raw_csv_path = real_path,\n",
    "        #     test_ratio = 0.20,\n",
    "        #     categorical_columns = ['Pclass','Sex','SibSp','Parch','Embarked'],\n",
    "        #     log_columns = [],\n",
    "        #     mixed_columns= {},\n",
    "        #     integer_columns = ['Age','Fare'],\n",
    "        #     problem_type= {\"Classification\": 'Survived'},\n",
    "        #     epochs=n_iter\n",
    "        # )\n",
    "        # self.model = CTABGAN(\n",
    "        #     raw_csv_path = real_path,\n",
    "        #     test_ratio = 0.20,\n",
    "        #     categorical_columns = list2,\n",
    "        #     log_columns = [],\n",
    "        #     mixed_columns= {},\n",
    "        #     integer_columns = list1,\n",
    "        #     problem_type= {\"Classification\": 'Cover_Type'},\n",
    "        #     epochs=n_iter\n",
    "        # )\n",
    "        self.model = CTABGAN(\n",
    "            raw_csv_path = real_path,\n",
    "            test_ratio = 0.20,\n",
    "            categorical_columns = [],\n",
    "            log_columns = [],\n",
    "            mixed_columns= {},\n",
    "            integer_columns = numeric_columns,\n",
    "            problem_type= {\"Regression\": 'Amount'},\n",
    "            epochs=n_iter\n",
    "        )\n",
    "        \n",
    "    @staticmethod\n",
    "    def name() -> str:\n",
    "        return \"ctab-gan\"\n",
    "\n",
    "    @staticmethod\n",
    "    def type() -> str:\n",
    "        return \"debug\"\n",
    "\n",
    "    @staticmethod\n",
    "    def hyperparameter_space(*args: Any, **kwargs: Any) -> List[Distribution]:\n",
    "        return []\n",
    "\n",
    "    def _fit(self,X: DataLoader ,*args: Any, **kwargs: Any) -> \"CTABGANPlugin\":\n",
    "        self.model.fit()\n",
    "        return self\n",
    "\n",
    "    def _generate(self, count: int, syn_schema: Schema, **kwargs: Any):\n",
    "        return self._safe_generate(self.model.generate_samples, count, syn_schema)"
   ]
  },
  {
   "cell_type": "code",
   "execution_count": 7,
   "metadata": {},
   "outputs": [
    {
     "name": "stderr",
     "output_type": "stream",
     "text": [
      "[2025-02-26T12:28:13.094650+0800][15080][CRITICAL] module disabled: e:\\qycache\\anaconda\\envs\\LLM\\lib\\site-packages\\synthcity\\plugins\\generic\\plugin_goggle.py\n"
     ]
    },
    {
     "data": {
      "text/plain": [
       "['ctgan',\n",
       " 'arf',\n",
       " 'timegan',\n",
       " 'aim',\n",
       " 'uniform_sampler',\n",
       " 'radialgan',\n",
       " 'adsgan',\n",
       " 'nflow',\n",
       " 'survival_ctgan',\n",
       " 'survival_gan',\n",
       " 'dpgan',\n",
       " 'pategan',\n",
       " 'survival_nflow',\n",
       " 'bayesian_network',\n",
       " 'rtvae',\n",
       " 'marginal_distributions',\n",
       " 'fflows',\n",
       " 'decaf',\n",
       " 'great',\n",
       " 'survae',\n",
       " 'timevae',\n",
       " 'ddpm',\n",
       " 'dummy_sampler',\n",
       " 'privbayes',\n",
       " 'image_adsgan',\n",
       " 'image_cgan',\n",
       " 'tvae']"
      ]
     },
     "execution_count": 7,
     "metadata": {},
     "output_type": "execute_result"
    }
   ],
   "source": [
    "# synthcity absolute\n",
    "from synthcity.plugins import Plugins\n",
    "\n",
    "generators = Plugins()\n",
    "\n",
    "generators.list()"
   ]
  },
  {
   "cell_type": "code",
   "execution_count": 8,
   "metadata": {},
   "outputs": [
    {
     "data": {
      "text/plain": [
       "['ctgan',\n",
       " 'arf',\n",
       " 'timegan',\n",
       " 'aim',\n",
       " 'uniform_sampler',\n",
       " 'radialgan',\n",
       " 'adsgan',\n",
       " 'nflow',\n",
       " 'survival_ctgan',\n",
       " 'survival_gan',\n",
       " 'dpgan',\n",
       " 'pategan',\n",
       " 'survival_nflow',\n",
       " 'bayesian_network',\n",
       " 'rtvae',\n",
       " 'marginal_distributions',\n",
       " 'fflows',\n",
       " 'decaf',\n",
       " 'great',\n",
       " 'survae',\n",
       " 'timevae',\n",
       " 'ddpm',\n",
       " 'dummy_sampler',\n",
       " 'privbayes',\n",
       " 'ctab-gan',\n",
       " 'image_adsgan',\n",
       " 'image_cgan',\n",
       " 'tvae']"
      ]
     },
     "execution_count": 8,
     "metadata": {},
     "output_type": "execute_result"
    }
   ],
   "source": [
    "generators.add(\"ctab-gan\", CTABGANPlugin)\n",
    "\n",
    "generators.list()"
   ]
  },
  {
   "cell_type": "code",
   "execution_count": null,
   "metadata": {},
   "outputs": [],
   "source": [
    "data = pd.read_csv(real_path)\n",
    "#data = pd.read_csv('../CTGAN-main/CTGAN-main/examples/csv/train_clean.csv')\n",
    "#data = pd.read_csv('../CTGAN-main/CTGAN-main/Adult_datasets.csv')\n",
    "loader = GenericDataLoader(data)\n",
    "# Train the new plugin\n",
    "from torch.nn import TransformerEncoder\n",
    "gen = generators.get(\"ctab-gan\", n_iter=200)\n",
    "gen.fit(loader)\n",
    "# Generate some new data"
   ]
  },
  {
   "cell_type": "code",
   "execution_count": 10,
   "metadata": {},
   "outputs": [],
   "source": [
    "a = gen.generate(count=2000).dataframe()\n",
    "a.to_csv('CTABGAN-cover200.csv', index=False)"
   ]
  }
 ],
 "metadata": {
  "kernelspec": {
   "display_name": "LLM",
   "language": "python",
   "name": "python3"
  },
  "language_info": {
   "codemirror_mode": {
    "name": "ipython",
    "version": 3
   },
   "file_extension": ".py",
   "mimetype": "text/x-python",
   "name": "python",
   "nbconvert_exporter": "python",
   "pygments_lexer": "ipython3",
   "version": "3.9.19"
  }
 },
 "nbformat": 4,
 "nbformat_minor": 2
}
