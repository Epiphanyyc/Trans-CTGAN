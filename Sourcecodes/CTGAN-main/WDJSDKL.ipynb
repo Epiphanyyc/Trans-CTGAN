{
 "cells": [
  {
   "cell_type": "code",
   "execution_count": null,
   "metadata": {},
   "outputs": [],
   "source": [
    "import pandas as pd\n",
    "import numpy as np\n",
    "from scipy.stats import wasserstein_distance, entropy\n",
    "\n",
    "def calculate_metrics(real_path, synthetic_path, discrete_columns=[]):\n",
    " \n",
    "    real = pd.read_csv(real_path)\n",
    "    synthetic = pd.read_csv(synthetic_path)\n",
    "    \n",
    "    if not discrete_columns:\n",
    "        discrete_columns = auto_detect_discrete_columns(real)\n",
    "    \n",
    "    results = {\n",
    "        \"wd_continuous\": [],\n",
    "        \"jsd_discrete\": [],\n",
    "        \"kl_discrete\": []\n",
    "    }\n",
    "    \n",
    "    continuous_cols = [col for col in real.columns if col not in discrete_columns]\n",
    "    for col in continuous_cols:\n",
    "        wd = wasserstein_distance(real[col], synthetic[col])\n",
    "        results[\"wd_continuous\"].append(wd)\n",
    "    \n",
    "    for col in discrete_columns:\n",
    "\n",
    "        real_p = real[col].value_counts(normalize=True).sort_index()\n",
    "        syn_p = synthetic[col].value_counts(normalize=True).sort_index()\n",
    "        \n",
    "        all_cats = real_p.index.union(syn_p.index)\n",
    "        real_p = real_p.reindex(all_cats, fill_value=0).values + 1e-10\n",
    "        syn_p = syn_p.reindex(all_cats, fill_value=0).values + 1e-10\n",
    "        \n",
    "        m = 0.5 * (real_p + syn_p)\n",
    "        jsd = 0.5 * (entropy(real_p, m) + entropy(syn_p, m))\n",
    "        results[\"jsd_discrete\"].append(jsd)\n",
    "        \n",
    "        kl_real_syn = entropy(real_p, syn_p)\n",
    "        kl_syn_real = entropy(syn_p, real_p)\n",
    "        results[\"kl_discrete\"].append(0.5*(kl_real_syn + kl_syn_real))\n",
    "    \n",
    "    final_metrics = {\n",
    "        \"Wasserstein Distance (Continuous)\": np.mean(results[\"wd_continuous\"]) if continuous_cols else 0,\n",
    "        \"Jensen-Shannon Divergence (Discrete)\": np.mean(results[\"jsd_discrete\"]) if discrete_columns else 0,\n",
    "        \"Symmetric KL Divergence (Discrete)\": np.mean(results[\"kl_discrete\"]) if discrete_columns else 0\n",
    "    }\n",
    "    \n",
    "    return final_metrics\n",
    "\n",
    "def auto_detect_discrete_columns(data, unique_ratio_threshold=0.05, unique_count_threshold=20):\n",
    "\n",
    "    discrete_cols = []\n",
    "    for col in data.columns:\n",
    "        col_data = data[col].dropna()\n",
    "        if col_data.dtype in [object, 'category', bool]:\n",
    "            discrete_cols.append(col)\n",
    "        elif np.issubdtype(col_data.dtype, np.number):\n",
    "            n_unique = col_data.nunique()\n",
    "            if n_unique <= unique_count_threshold:\n",
    "                discrete_cols.append(col)\n",
    "            elif n_unique / len(col_data) < unique_ratio_threshold:\n",
    "                if (col_data == col_data.astype(int)).all():\n",
    "                    discrete_cols.append(col)\n",
    "    return discrete_cols"
   ]
  },
  {
   "cell_type": "code",
   "execution_count": null,
   "metadata": {},
   "outputs": [
    {
     "name": "stdout",
     "output_type": "stream",
     "text": [
      "Evaluation Metrics:\n",
      "Wasserstein Distance (Continuous): 0.8977\n",
      "Jensen-Shannon Divergence (Discrete): 0.0000\n",
      "Symmetric KL Divergence (Discrete): 0.0000\n"
     ]
    }
   ],
   "source": [
    "#real_path = \"../CTAB-GAN-main/Real_Datasets/Adult3.csv\"\n",
    "#real_path = '..C/CTGAN-main/CTGAN-main/examples/csv/train_clean.csv'\n",
    "real_path = \"../CTAB-GAN-main/Real_Datasets/Credit.csv\"\n",
    "#real_path = \"../synthcity-main/tutorials/covertype_preprocessed.csv\"\n",
    "\n",
    "fake_path = \"../synthcity-main/tutorials/TransCTGAN-Credit_31.csv\"\n",
    "#fake_path = \"../synthcity-main/tutorials/OriginalCTGAN-Cover_31.csv\"\n",
    "#fake_path = \"../synthcity-main/tutorials/CTGAN-Cover_31.csv\"\n",
    "#fake_path = \"../synthcity-main/tutorials/CTABGAN-Credit_31.csv\"\n",
    "#fake_path = \"../synthcity-main/tutorials/OriginalCTGAN-Adult_31.csv\"\n",
    "#fake_path = \"../synthcity-main/tutorials/TransCTGAN-Titani_1.csv\"\n",
    "#fake_path = \"../synthcity-main/tutorials/DDPM-Adult_31.csv\"\n",
    "real_data = pd.read_csv(real_path)\n",
    "discrete_cols = auto_detect_discrete_columns(real_data)\n",
    "\n",
    "metrics = calculate_metrics(real_path, fake_path, discrete_cols)\n",
    "\n",
    "print(\"Evaluation Metrics:\")\n",
    "for k, v in metrics.items():\n",
    "    print(f\"{k}: {v:.4f}\")"
   ]
  }
 ],
 "metadata": {
  "kernelspec": {
   "display_name": "LLM",
   "language": "python",
   "name": "python3"
  },
  "language_info": {
   "codemirror_mode": {
    "name": "ipython",
    "version": 3
   },
   "file_extension": ".py",
   "mimetype": "text/x-python",
   "name": "python",
   "nbconvert_exporter": "python",
   "pygments_lexer": "ipython3",
   "version": "3.9.19"
  }
 },
 "nbformat": 4,
 "nbformat_minor": 2
}
