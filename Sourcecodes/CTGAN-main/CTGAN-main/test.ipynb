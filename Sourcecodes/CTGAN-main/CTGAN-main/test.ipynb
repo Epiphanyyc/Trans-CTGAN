{
 "cells": [
  {
   "cell_type": "code",
   "execution_count": null,
   "id": "c30a7ee0",
   "metadata": {},
   "outputs": [],
   "source": [
    "from ctgan import CTGAN,EnhancedCTGAN\n",
    "import pandas as pd\n",
    "import matplotlib.pyplot as plt\n",
    "import seaborn as sns\n",
    "from typing import Any, List\n",
    "# third party\n",
    "import numpy as np\n",
    "import pandas as pd\n",
    "\n",
    "#real_path = \"../CTAB-GAN-main/Real_Datasets/Adult3.csv\"\n",
    "#real_path = \"../CTAB-GAN-main/Real_Datasets/Credit.csv\"\n",
    "real_path = '../CTGAN-main/CTGAN-main/examples/csv/train_clean.csv'\n",
    "#real_path = \"../synthcity-main/tutorials/covertype_preprocessed.csv\"\n",
    "data = pd.read_csv(real_path)\n",
    "\n",
    "discrete_columns = [\n",
    "    'Gender',\n",
    "    'Ethnicity',\n",
    "    'ParentalEducation',\n",
    "    'Tutoring',\n",
    "    'ParentalSupport'\n",
    "]\n",
    "\n",
    "\n",
    "ctgan = EnhancedCTGAN(epochs=300)\n",
    "ctgan.fit(data)\n",
    "\n",
    "# Create synthetic data\n",
    "synthetic_data = ctgan.sample(1000)\n",
    "print(synthetic_data)\n",
    "synthetic_data.to_csv('./tit.csv', index=False)\n",
    "\n",
    "correlation_matrix_real = data.corr()\n",
    "sns.heatmap(correlation_matrix_real, annot=True, cmap='coolwarm')\n",
    "plt.title('Correlation Matrix Heatmap')\n",
    "plt.show()\n",
    "\n",
    "\n",
    "correlation_matrix_fake = synthetic_data.corr()\n",
    "sns.heatmap(correlation_matrix_fake, annot=True, cmap='coolwarm')\n",
    "plt.title('Correlation Matrix Heatmap')\n",
    "plt.show()"
   ]
  }
 ],
 "metadata": {
  "kernelspec": {
   "display_name": "LLM",
   "language": "python",
   "name": "python3"
  },
  "language_info": {
   "codemirror_mode": {
    "name": "ipython",
    "version": 3
   },
   "file_extension": ".py",
   "mimetype": "text/x-python",
   "name": "python",
   "nbconvert_exporter": "python",
   "pygments_lexer": "ipython3",
   "version": "3.9.19"
  }
 },
 "nbformat": 4,
 "nbformat_minor": 5
}
