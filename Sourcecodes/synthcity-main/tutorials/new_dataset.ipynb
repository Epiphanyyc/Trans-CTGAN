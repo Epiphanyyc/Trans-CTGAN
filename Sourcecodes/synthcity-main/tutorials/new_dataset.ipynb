{
 "cells": [
  {
   "cell_type": "code",
   "execution_count": null,
   "metadata": {},
   "outputs": [],
   "source": [
    "import pandas as pd\n",
    "from sklearn.preprocessing import OneHotEncoder, MinMaxScaler\n",
    "from sklearn.compose import ColumnTransformer\n",
    "import numpy as np\n",
    "\n",
    "def preprocess_dataset(file_path):\n",
    "    df = pd.read_csv(file_path)\n",
    "    \n",
    "    # delete（RowNumber, CustomerId, Surname）\n",
    "    df = df.drop(columns=['RowNumber', 'CustomerId', 'Surname'])\n",
    "    \n",
    "    categorical_features = ['Geography', 'Gender']\n",
    "    numeric_features = ['CreditScore', 'Age', 'Tenure', 'Balance', \n",
    "                        'NumOfProducts', 'HasCrCard', 'IsActiveMember', \n",
    "                        'EstimatedSalary', 'Exited']\n",
    "    \n",
    "    preprocessor = ColumnTransformer(\n",
    "        transformers=[\n",
    "            ('cat', OneHotEncoder(drop='first'), categorical_features),\n",
    "            ('num', MinMaxScaler(), numeric_features)      \n",
    "        ],\n",
    "        remainder='passthrough'\n",
    "    )\n",
    "\n",
    "    processed_data = preprocessor.fit_transform(df)\n",
    "\n",
    "    cat_encoder = preprocessor.named_transformers_['cat']\n",
    "    new_cat_columns = cat_encoder.get_feature_names_out(categorical_features)\n",
    "    all_columns = np.concatenate([new_cat_columns, numeric_features])\n",
    "\n",
    "    processed_df = pd.DataFrame(processed_data, columns=all_columns)\n",
    "\n",
    "    print(\"processed\")\n",
    "    print(processed_df.describe())\n",
    "    \n",
    "    return processed_df\n",
    "\n",
    "processed_data = preprocess_dataset(r\"C:\\Users\\26332\\Desktop\\Churn_Modelling.csv\")\n",
    "\n",
    "processed_data.to_csv(r\"G:\\DataSets\\Churn.csv\", index=False)"
   ]
  }
 ],
 "metadata": {
  "kernelspec": {
   "display_name": "LLM",
   "language": "python",
   "name": "python3"
  },
  "language_info": {
   "codemirror_mode": {
    "name": "ipython",
    "version": 3
   },
   "file_extension": ".py",
   "mimetype": "text/x-python",
   "name": "python",
   "nbconvert_exporter": "python",
   "pygments_lexer": "ipython3",
   "version": "3.9.19"
  }
 },
 "nbformat": 4,
 "nbformat_minor": 2
}
