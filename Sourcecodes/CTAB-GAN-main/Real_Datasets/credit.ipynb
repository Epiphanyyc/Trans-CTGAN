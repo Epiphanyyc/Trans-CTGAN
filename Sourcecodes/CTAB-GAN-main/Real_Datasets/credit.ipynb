{
 "cells": [
  {
   "cell_type": "code",
   "execution_count": 2,
   "metadata": {},
   "outputs": [],
   "source": [
    "import pandas as pd\n",
    "from sklearn.preprocessing import StandardScaler\n",
    "\n",
    "# 手动下载并解压后的路径\n",
    "file_path =r\"C:\\Users\\26332\\Desktop\\表格数据生成课题\\表格GAN相关研究汇总（截止2024.11.2）\\datasets\\creditcard.csv\\creditcard.csv\"\n",
    "\n",
    "# 1. 加载数据\n",
    "data = pd.read_csv(file_path)\n",
    "\n",
    "# 2. 移除 'Time' 和 'Class' 列\n",
    "data.drop(['Time', 'Class'], axis=1, inplace=True)\n",
    "\n",
    "# 3. 缩放 'Amount' 列\n",
    "scaler = StandardScaler()\n",
    "data['Amount'] = scaler.fit_transform(data['Amount'].values.reshape(-1, 1))\n",
    "\n",
    "# 4. 随机采样 2000 条数据\n",
    "sampled_data = data.sample(n=140000, random_state=42)\n",
    "\n",
    "# 5. 保存为 CSV 文件\n",
    "sampled_data.to_csv(\"G:\\DataSets\\Credit140k.csv\", index=False)"
   ]
  },
  {
   "cell_type": "code",
   "execution_count": 1,
   "metadata": {},
   "outputs": [],
   "source": [
    "import pandas as pd\n",
    "from sklearn.preprocessing import StandardScaler\n",
    "#real_path = 'G:/DataSets/Fake_Dataset/Credit150k.csv'\n",
    "#fake_path = \"G:/DataSets/Fake_Dataset/CTGAN-Credit150k_50epochs.csv\"\n",
    "#fake_path = \"G:/DataSets/Fake_Dataset/DDPM-Credit150k-50epochs.csv\"\n",
    "fake_path = \"G:\\DataSets\\Covertype50k.csv\"\n",
    "# 手动下载并解压后的路径\n",
    "file_path = fake_path\n",
    "\n",
    "# 1. 加载数据\n",
    "data = pd.read_csv(file_path)\n",
    "\n",
    "# 4. 随机采样 2000 条数据\n",
    "sampled_data = data.sample(n=30000, random_state=42)\n",
    "\n",
    "# 5. 保存为 CSV 文件\n",
    "sampled_data.to_csv(\"G:/DataSets/Covertype30k.csv\", index=False)"
   ]
  },
  {
   "cell_type": "code",
   "execution_count": 1,
   "metadata": {},
   "outputs": [],
   "source": [
    "import pandas as pd\n",
    "from sklearn.preprocessing import StandardScaler\n",
    "\n",
    "# 手动下载并解压后的路径\n",
    "file_path = 'G:/DataSets/adult_processed_0.csv'\n",
    "\n",
    "# 1. 加载数据\n",
    "data = pd.read_csv(file_path)\n",
    "# 4. 随机采样 2000 条数据\n",
    "sampled_data = data.sample(n=20000, random_state=42)\n",
    "\n",
    "# 5. 保存为 CSV 文件\n",
    "sampled_data.to_csv(\"G:/DataSets/newadu-20k.csv\", index=False)"
   ]
  }
 ],
 "metadata": {
  "kernelspec": {
   "display_name": "LLM",
   "language": "python",
   "name": "python3"
  },
  "language_info": {
   "codemirror_mode": {
    "name": "ipython",
    "version": 3
   },
   "file_extension": ".py",
   "mimetype": "text/x-python",
   "name": "python",
   "nbconvert_exporter": "python",
   "pygments_lexer": "ipython3",
   "version": "3.9.19"
  }
 },
 "nbformat": 4,
 "nbformat_minor": 2
}
